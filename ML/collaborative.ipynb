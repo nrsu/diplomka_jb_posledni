{
 "cells": [
  {
   "cell_type": "code",
   "execution_count": null,
   "metadata": {},
   "outputs": [],
   "source": [
    "import pandas as pd\n",
    "import numpy as np \n"
   ]
  },
  {
   "cell_type": "code",
   "execution_count": null,
   "metadata": {},
   "outputs": [],
   "source": [
    "def load_date(path):\n",
    "    data = pd.read_csv(path)\n",
    "    df = df.DataFrame(data)\n",
    "    return df "
   ]
  },
  {
   "cell_type": "code",
   "execution_count": 1,
   "metadata": {},
   "outputs": [
    {
     "ename": "ModuleNotFoundError",
     "evalue": "No module named 'surprise'",
     "output_type": "error",
     "traceback": [
      "\u001b[0;31m---------------------------------------------------------------------------\u001b[0m",
      "\u001b[0;31mModuleNotFoundError\u001b[0m                       Traceback (most recent call last)",
      "Cell \u001b[0;32mIn[1], line 1\u001b[0m\n\u001b[0;32m----> 1\u001b[0m \u001b[38;5;28;01mfrom\u001b[39;00m \u001b[38;5;21;01msurprise\u001b[39;00m \u001b[38;5;28;01mimport\u001b[39;00m SVD, Dataset, Reader\n\u001b[1;32m      2\u001b[0m \u001b[38;5;28;01mfrom\u001b[39;00m \u001b[38;5;21;01msurprise\u001b[39;00m\u001b[38;5;21;01m.\u001b[39;00m\u001b[38;5;21;01mmodel_selection\u001b[39;00m \u001b[38;5;28;01mimport\u001b[39;00m train_test_split\n\u001b[1;32m      3\u001b[0m \u001b[38;5;28;01mfrom\u001b[39;00m \u001b[38;5;21;01msurprise\u001b[39;00m \u001b[38;5;28;01mimport\u001b[39;00m accuracy\n",
      "\u001b[0;31mModuleNotFoundError\u001b[0m: No module named 'surprise'"
     ]
    }
   ],
   "source": [
    "from surprise import SVD, Dataset, Reader\n",
    "from surprise.model_selection import train_test_split\n",
    "from surprise import accuracy\n",
    "from collections import defaultdict\n",
    "\n",
    "\n",
    "def train_model(data):\n",
    "    trainset, testset = train_test_split(data, test_size=0.2)\n",
    "    model = SVD()\n",
    "    model.fit(trainset)\n",
    "    predictions = model.test(testset)\n",
    "    rmse = accuracy.rmse(predictions)\n",
    "    print(f'RMSE: {rmse}')\n",
    "    return model\n",
    "\n",
    "def get_top_n_recommendations(model, data, n=5):\n",
    "    trainset = data.build_full_trainset()\n",
    "    all_predictions = defaultdict(list)\n",
    "    \n",
    "    for uid in trainset.all_users():\n",
    "        known_items = set([iid for (iid, _) in trainset.ur[uid]])\n",
    "        unseen_items = set(trainset.all_items()) - known_items\n",
    "        \n",
    "        for iid in unseen_items:\n",
    "            est_rating = model.predict(uid, iid).est\n",
    "            all_predictions[uid].append((iid, est_rating))\n",
    "    \n",
    "    for uid, user_ratings in all_predictions.items():\n",
    "        user_ratings.sort(key=lambda x: x[1], reverse=True)\n",
    "        all_predictions[uid] = user_ratings[:n]\n",
    "    \n",
    "    return all_predictions\n",
    "\n",
    "# Usage\n",
    "file_path = 'ratings.csv'  # CSV file with columns: user_id, product_id, rating\n",
    "data = load_data(file_path)\n",
    "model = train_model(data)\n",
    "recommendations = get_top_n_recommendations(model, data)\n",
    "\n",
    "for user, items in recommendations.items():\n",
    "    print(f'User {user} recommended products: {items}')\n"
   ]
  }
 ],
 "metadata": {
  "kernelspec": {
   "display_name": "Python 3",
   "language": "python",
   "name": "python3"
  },
  "language_info": {
   "codemirror_mode": {
    "name": "ipython",
    "version": 3
   },
   "file_extension": ".py",
   "mimetype": "text/x-python",
   "name": "python",
   "nbconvert_exporter": "python",
   "pygments_lexer": "ipython3",
   "version": "3.10.8"
  }
 },
 "nbformat": 4,
 "nbformat_minor": 2
}
